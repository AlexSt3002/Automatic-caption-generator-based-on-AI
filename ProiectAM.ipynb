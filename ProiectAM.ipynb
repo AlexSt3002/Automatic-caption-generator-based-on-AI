{
 "cells": [
  {
   "cell_type": "code",
   "execution_count": 9,
   "id": "e5929071-fc89-4907-9368-421345481436",
   "metadata": {},
   "outputs": [
    {
     "ename": "ModuleNotFoundError",
     "evalue": "No module named 'moviepy.editor'",
     "output_type": "error",
     "traceback": [
      "\u001b[1;31m---------------------------------------------------------------------------\u001b[0m",
      "\u001b[1;31mModuleNotFoundError\u001b[0m                       Traceback (most recent call last)",
      "Cell \u001b[1;32mIn[9], line 2\u001b[0m\n\u001b[0;32m      1\u001b[0m \u001b[38;5;28;01mimport\u001b[39;00m \u001b[38;5;21;01mwhisper\u001b[39;00m\n\u001b[1;32m----> 2\u001b[0m \u001b[38;5;28;01mfrom\u001b[39;00m \u001b[38;5;21;01mmoviepy\u001b[39;00m\u001b[38;5;21;01m.\u001b[39;00m\u001b[38;5;21;01meditor\u001b[39;00m \u001b[38;5;28;01mimport\u001b[39;00m VideoFileClip, CompositeVideoClip\n\u001b[0;32m      3\u001b[0m \u001b[38;5;28;01mfrom\u001b[39;00m \u001b[38;5;21;01mmoviepy\u001b[39;00m\u001b[38;5;21;01m.\u001b[39;00m\u001b[38;5;21;01mvideo\u001b[39;00m\u001b[38;5;21;01m.\u001b[39;00m\u001b[38;5;21;01mtools\u001b[39;00m\u001b[38;5;21;01m.\u001b[39;00m\u001b[38;5;21;01msubtitles\u001b[39;00m \u001b[38;5;28;01mimport\u001b[39;00m SubtitlesClip\n\u001b[0;32m      4\u001b[0m \u001b[38;5;28;01mfrom\u001b[39;00m \u001b[38;5;21;01mmoviepy\u001b[39;00m\u001b[38;5;21;01m.\u001b[39;00m\u001b[38;5;21;01mvideo\u001b[39;00m\u001b[38;5;21;01m.\u001b[39;00m\u001b[38;5;21;01mio\u001b[39;00m\u001b[38;5;21;01m.\u001b[39;00m\u001b[38;5;21;01mffmpeg_tools\u001b[39;00m \u001b[38;5;28;01mimport\u001b[39;00m ffmpeg_extract_audio\n",
      "\u001b[1;31mModuleNotFoundError\u001b[0m: No module named 'moviepy.editor'"
     ]
    }
   ],
   "source": [
    "import whisper\n",
    "from moviepy.editor import VideoFileClip, CompositeVideoClip\n",
    "from moviepy.video.tools.subtitles import SubtitlesClip\n",
    "from moviepy.video.io.ffmpeg_tools import ffmpeg_extract_audio\n",
    "import os\n",
    "import ipywidgets as widgets\n",
    "from ipyfilechooser import FileChooser\n",
    "from IPython.display import display\n",
    "\n",
    "# Setare pentru ImageMagick\n",
    "os.environ[\"IMAGEMAGICK_BINARY\"] = r\"C:\\Program Files\\ImageMagick-7.1.1-Q16-HDRI\\magick.exe\"\n",
    "\n",
    "# 📍 Configurări inițiale\n",
    "SUBTITLE_FILE = r\"C:\\Users\\alex_\\Downloads\\subtitles.srt\"\n",
    "OUTPUT_VIDEO = r\"C:\\Users\\alex_\\Downloads\\video_with_subtitles.mp4\"\n",
    "\n",
    "# 🔹 1. Funcție pentru generarea fișierului SRT cu timestamp-uri corecte\n",
    "def save_subtitles(whisper_result, output_srt=SUBTITLE_FILE):\n",
    "    \"\"\" Salvează subtitrările într-un fișier .srt cu timestamp-uri reale \"\"\"\n",
    "    with open(output_srt, \"w\", encoding=\"utf-8\") as f:\n",
    "        for i, segment in enumerate(whisper_result[\"segments\"]):\n",
    "            start_time = format_srt_time(segment[\"start\"])\n",
    "            end_time = format_srt_time(segment[\"end\"])\n",
    "            text = segment[\"text\"].strip()\n",
    "            f.write(f\"{i + 1}\\n{start_time} --> {end_time}\\n{text}\\n\\n\")\n",
    "    return output_srt\n",
    "\n",
    "def format_srt_time(seconds):\n",
    "    \"\"\" Transformă secunde în formatul SRT hh:mm:ss,mmm \"\"\"\n",
    "    millisec = int((seconds % 1) * 1000)\n",
    "    seconds = int(seconds)\n",
    "    minutes, seconds = divmod(seconds, 60)\n",
    "    hours, minutes = divmod(minutes, 60)\n",
    "    return f\"{hours:02}:{minutes:02}:{seconds:02},{millisec:03}\"\n",
    "\n",
    "# 🔹 2. Funcție pentru adăugarea subtitrărilor pe video\n",
    "def add_subtitles_moviepy(video_path, subtitle_path, output_video, font, color, fontsize):\n",
    "    \"\"\" Adaugă subtitrările pe video folosind MoviePy \"\"\"\n",
    "    video = VideoFileClip(video_path)\n",
    "\n",
    "    def generator(txt):\n",
    "        from moviepy.video.VideoClip import TextClip\n",
    "        return TextClip(txt, font=font, fontsize=fontsize, color=color, bg_color='black')\n",
    "\n",
    "    subs = SubtitlesClip(subtitle_path, generator)\n",
    "    video_with_subs = CompositeVideoClip([video, subs.set_position((\"center\", \"bottom\"))])\n",
    "    video_with_subs.write_videofile(output_video, fps=video.fps)\n",
    "\n",
    "# 🔹 3. Funcție principală\n",
    "def process_video(video_path, font, color, fontsize):\n",
    "    \"\"\" Extrage audio, transcrie textul și adaugă subtitrările \"\"\"\n",
    "    audio_path = \"temp_audio.wav\"\n",
    "    ffmpeg_extract_audio(video_path, audio_path)\n",
    "    \n",
    "    model = whisper.load_model(\"small\")\n",
    "    whisper_result = model.transcribe(audio_path, language=\"en\", word_timestamps=True)\n",
    "\n",
    "    subtitle_file = save_subtitles(whisper_result)\n",
    "    add_subtitles_moviepy(video_path, subtitle_file, OUTPUT_VIDEO, font, color, fontsize)\n",
    "\n",
    "# 🔹 4. Creare interfață cu widget-uri\n",
    "chooser = FileChooser('C:/Users/alex_/Downloads/')\n",
    "chooser.filter_pattern = \"*.mp4\"\n",
    "\n",
    "font_dropdown = widgets.Dropdown(\n",
    "    options=['Arial', 'Courier', 'Times-New-Roman', 'Verdana'],\n",
    "    value='Arial',\n",
    "    description='Font:'\n",
    ")\n",
    "\n",
    "color_dropdown = widgets.Dropdown(\n",
    "    options=['white', 'yellow', 'red', 'green', 'blue'],\n",
    "    value='white',\n",
    "    description='Culoare:'\n",
    ")\n",
    "\n",
    "fontsize_slider = widgets.IntSlider(\n",
    "    value=30,\n",
    "    min=10,\n",
    "    max=60,\n",
    "    step=2,\n",
    "    description='Dimensiune:'\n",
    ")\n",
    "\n",
    "process_button = widgets.Button(description=\"Generează Subtitrări\")\n",
    "output_label = widgets.Label()\n",
    "\n",
    "def on_button_click(b):\n",
    "    if chooser.selected:\n",
    "        output_label.value = \"⏳ Procesăm video-ul...\"\n",
    "        process_video(chooser.selected, font_dropdown.value, color_dropdown.value, fontsize_slider.value)\n",
    "        output_label.value = f\"✅ Video salvat: {OUTPUT_VIDEO}\"\n",
    "    else:\n",
    "        output_label.value = \"⚠️ Selectează un fișier video mai întâi!\"\n",
    "\n",
    "process_button.on_click(on_button_click)\n",
    "\n",
    "# Afișare widget-uri\n",
    "display(chooser, font_dropdown, color_dropdown, fontsize_slider, process_button, output_label)\n"
   ]
  },
  {
   "cell_type": "code",
   "execution_count": 3,
   "id": "8277e8d3-82bd-415b-b8e9-f5197fd3ac68",
   "metadata": {},
   "outputs": [
    {
     "name": "stdout",
     "output_type": "stream",
     "text": [
      "Requirement already satisfied: moviepy in c:\\users\\alex_\\anaconda3\\lib\\site-packages (2.1.2)\n",
      "Requirement already satisfied: decorator<6.0,>=4.0.2 in c:\\users\\alex_\\anaconda3\\lib\\site-packages (from moviepy) (4.4.2)\n",
      "Requirement already satisfied: imageio<3.0,>=2.5 in c:\\users\\alex_\\anaconda3\\lib\\site-packages (from moviepy) (2.37.0)\n",
      "Requirement already satisfied: imageio_ffmpeg>=0.2.0 in c:\\users\\alex_\\anaconda3\\lib\\site-packages (from moviepy) (0.6.0)\n",
      "Requirement already satisfied: numpy>=1.25.0 in c:\\users\\alex_\\anaconda3\\lib\\site-packages (from moviepy) (1.26.4)\n",
      "Requirement already satisfied: proglog<=1.0.0 in c:\\users\\alex_\\anaconda3\\lib\\site-packages (from moviepy) (0.1.10)\n",
      "Requirement already satisfied: python-dotenv>=0.10 in c:\\users\\alex_\\anaconda3\\lib\\site-packages (from moviepy) (0.21.0)\n",
      "Requirement already satisfied: pillow<11.0,>=9.2.0 in c:\\users\\alex_\\anaconda3\\lib\\site-packages (from moviepy) (10.4.0)\n",
      "Requirement already satisfied: tqdm in c:\\users\\alex_\\anaconda3\\lib\\site-packages (from proglog<=1.0.0->moviepy) (4.66.5)\n",
      "Requirement already satisfied: colorama in c:\\users\\alex_\\anaconda3\\lib\\site-packages (from tqdm->proglog<=1.0.0->moviepy) (0.4.6)\n",
      "Note: you may need to restart the kernel to use updated packages.\n"
     ]
    }
   ],
   "source": [
    "pip install moviepy"
   ]
  },
  {
   "cell_type": "code",
   "execution_count": 1,
   "id": "472943e9-e3c1-4338-ba82-f4ca261916ae",
   "metadata": {},
   "outputs": [],
   "source": [
    "from moviepy.config import change_settings\n",
    "change_settings({\"IMAGEMAGICK_BINARY\": r\"C:\\Program Files\\ImageMagick-7.1.1-Q16-HDRI\\magick.exe\"})"
   ]
  },
  {
   "cell_type": "code",
   "execution_count": 3,
   "id": "059d2054-3426-4b6a-ac9d-d91e17ae71fb",
   "metadata": {},
   "outputs": [
    {
     "data": {
      "application/vnd.jupyter.widget-view+json": {
       "model_id": "5b97769c01984f06b2b1dba7d9957147",
       "version_major": 2,
       "version_minor": 0
      },
      "text/plain": [
       "FileChooser(path='C:\\Users\\alex_\\Downloads', filename='', title='', show_hidden=False, select_desc='Select', c…"
      ]
     },
     "metadata": {},
     "output_type": "display_data"
    },
    {
     "data": {
      "application/vnd.jupyter.widget-view+json": {
       "model_id": "6d6b41719c2748ffba2931686c375a0f",
       "version_major": 2,
       "version_minor": 0
      },
      "text/plain": [
       "Dropdown(description='Font:', options=('Arial', 'Courier', 'Times-New-Roman', 'Verdana'), value='Arial')"
      ]
     },
     "metadata": {},
     "output_type": "display_data"
    },
    {
     "data": {
      "application/vnd.jupyter.widget-view+json": {
       "model_id": "757aa99fb02d4173b96bdeb0a55a7319",
       "version_major": 2,
       "version_minor": 0
      },
      "text/plain": [
       "Dropdown(description='Culoare:', options=('white', 'yellow', 'red', 'green', 'blue'), value='white')"
      ]
     },
     "metadata": {},
     "output_type": "display_data"
    },
    {
     "data": {
      "application/vnd.jupyter.widget-view+json": {
       "model_id": "1986c6483bfa4c6e8da0e39096d08a75",
       "version_major": 2,
       "version_minor": 0
      },
      "text/plain": [
       "IntSlider(value=30, description='Dimensiune:', max=60, min=10, step=2)"
      ]
     },
     "metadata": {},
     "output_type": "display_data"
    },
    {
     "data": {
      "application/vnd.jupyter.widget-view+json": {
       "model_id": "690594d93b84491aa1c2eb75e6172e97",
       "version_major": 2,
       "version_minor": 0
      },
      "text/plain": [
       "Dropdown(description='Limbă:', options={'Engleză': 'en', 'Română': 'ro', 'Spaniolă': 'es', 'Franceză': 'fr', '…"
      ]
     },
     "metadata": {},
     "output_type": "display_data"
    },
    {
     "data": {
      "application/vnd.jupyter.widget-view+json": {
       "model_id": "776c2ef691674dfdae43fb57992ab4bb",
       "version_major": 2,
       "version_minor": 0
      },
      "text/plain": [
       "Button(description='Generează Subtitrări', style=ButtonStyle())"
      ]
     },
     "metadata": {},
     "output_type": "display_data"
    },
    {
     "data": {
      "application/vnd.jupyter.widget-view+json": {
       "model_id": "a7b7b67a9c054cc6bda487bb0855811f",
       "version_major": 2,
       "version_minor": 0
      },
      "text/plain": [
       "Label(value='')"
      ]
     },
     "metadata": {},
     "output_type": "display_data"
    }
   ],
   "source": [
    "import whisper\n",
    "from moviepy.editor import VideoFileClip, CompositeVideoClip\n",
    "from moviepy.video.tools.subtitles import SubtitlesClip\n",
    "from moviepy.video.io.ffmpeg_tools import ffmpeg_extract_audio\n",
    "from deep_translator import GoogleTranslator  # Bibliotecă pentru traducere\n",
    "import os\n",
    "import ipywidgets as widgets\n",
    "from ipyfilechooser import FileChooser\n",
    "from IPython.display import display\n",
    "\n",
    "# Setare pentru ImageMagick\n",
    "os.environ[\"IMAGEMAGICK_BINARY\"] = r\"C:\\Program Files\\ImageMagick-7.1.1-Q16-HDRI\\magick.exe\"\n",
    "\n",
    "# 📍 Configurări inițiale\n",
    "SUBTITLE_FILE = r\"C:\\Users\\alex_\\Downloads\\subtitles.srt\"\n",
    "OUTPUT_VIDEO = r\"C:\\Users\\alex_\\Downloads\\video_with_subtitles.mp4\"\n",
    "\n",
    "# 🔹 1. Funcție pentru generarea fișierului SRT cu timestamp-uri corecte\n",
    "def save_subtitles(whisper_result, lang, output_srt=SUBTITLE_FILE):\n",
    "    \"\"\" Salvează subtitrările într-un fișier .srt cu timestamp-uri reale și traduce dacă este necesar \"\"\"\n",
    "    translator = GoogleTranslator(source=\"en\", target=lang) if lang != \"en\" else None\n",
    "\n",
    "    with open(output_srt, \"w\", encoding=\"utf-8\") as f:\n",
    "        for i, segment in enumerate(whisper_result[\"segments\"]):\n",
    "            start_time = format_srt_time(segment[\"start\"])\n",
    "            end_time = format_srt_time(segment[\"end\"])\n",
    "            text = segment[\"text\"].strip()\n",
    "            \n",
    "            if translator:\n",
    "                text = translator.translate(text)  # Traducere text dacă este necesar\n",
    "            \n",
    "            f.write(f\"{i + 1}\\n{start_time} --> {end_time}\\n{text}\\n\\n\")\n",
    "    \n",
    "    return output_srt\n",
    "\n",
    "def format_srt_time(seconds):\n",
    "    \"\"\" Transformă secunde în formatul SRT hh:mm:ss,mmm \"\"\"\n",
    "    millisec = int((seconds % 1) * 1000)\n",
    "    seconds = int(seconds)\n",
    "    minutes, seconds = divmod(seconds, 60)\n",
    "    hours, minutes = divmod(minutes, 60)\n",
    "    return f\"{hours:02}:{minutes:02}:{seconds:02},{millisec:03}\"\n",
    "\n",
    "# 🔹 2. Funcție pentru adăugarea subtitrărilor pe video\n",
    "def add_subtitles_moviepy(video_path, subtitle_path, output_video, font, color, fontsize):\n",
    "    \"\"\" Adaugă subtitrările pe video folosind MoviePy \"\"\"\n",
    "    video = VideoFileClip(video_path)\n",
    "\n",
    "    def generator(txt):\n",
    "        from moviepy.video.VideoClip import TextClip\n",
    "        return TextClip(txt, font=font, fontsize=fontsize, color=color, bg_color='black')\n",
    "\n",
    "    subs = SubtitlesClip(subtitle_path, generator)\n",
    "    video_with_subs = CompositeVideoClip([video, subs.set_position((\"center\", \"bottom\"))])\n",
    "    video_with_subs.write_videofile(output_video, fps=video.fps)\n",
    "\n",
    "# 🔹 3. Funcție principală\n",
    "def process_video(video_path, font, color, fontsize, lang):\n",
    "    \"\"\" Extrage audio, transcrie textul, traduce și adaugă subtitrările \"\"\"\n",
    "    audio_path = \"temp_audio.wav\"\n",
    "    ffmpeg_extract_audio(video_path, audio_path)\n",
    "    \n",
    "    model = whisper.load_model(\"small\")\n",
    "    whisper_result = model.transcribe(audio_path, language=\"en\", word_timestamps=True)\n",
    "\n",
    "    subtitle_file = save_subtitles(whisper_result, lang)\n",
    "    add_subtitles_moviepy(video_path, subtitle_file, OUTPUT_VIDEO, font, color, fontsize)\n",
    "\n",
    "# 🔹 4. Creare interfață cu widget-uri\n",
    "chooser = FileChooser('C:/Users/alex_/Downloads/')\n",
    "chooser.filter_pattern = \"*.mp4\"\n",
    "\n",
    "font_dropdown = widgets.Dropdown(\n",
    "    options=['Arial', 'Courier', 'Times-New-Roman', 'Verdana'],\n",
    "    value='Arial',\n",
    "    description='Font:'\n",
    ")\n",
    "\n",
    "color_dropdown = widgets.Dropdown(\n",
    "    options=['white', 'yellow', 'red', 'green', 'blue'],\n",
    "    value='white',\n",
    "    description='Culoare:'\n",
    ")\n",
    "\n",
    "fontsize_slider = widgets.IntSlider(\n",
    "    value=30,\n",
    "    min=10,\n",
    "    max=60,\n",
    "    step=2,\n",
    "    description='Dimensiune:'\n",
    ")\n",
    "\n",
    "language_dropdown = widgets.Dropdown(\n",
    "    options={'Engleză': 'en', 'Română': 'ro', 'Spaniolă': 'es', 'Franceză': 'fr', 'Germană': 'de', 'Italiană': 'it'},\n",
    "    value='en',\n",
    "    description='Limbă:'\n",
    ")\n",
    "\n",
    "process_button = widgets.Button(description=\"Generează Subtitrări\")\n",
    "output_label = widgets.Label()\n",
    "\n",
    "def on_button_click(b):\n",
    "    if chooser.selected:\n",
    "        output_label.value = \"⏳ Procesăm video-ul...\"\n",
    "        process_video(chooser.selected, font_dropdown.value, color_dropdown.value, fontsize_slider.value, language_dropdown.value)\n",
    "        output_label.value = f\"✅ Video salvat: {OUTPUT_VIDEO}\"\n",
    "    else:\n",
    "        output_label.value = \"⚠️ Selectează un fișier video mai întâi!\"\n",
    "\n",
    "process_button.on_click(on_button_click)\n",
    "\n",
    "# Afișare widget-uri\n",
    "display(chooser, font_dropdown, color_dropdown, fontsize_slider, language_dropdown, process_button, output_label)\n"
   ]
  },
  {
   "cell_type": "code",
   "execution_count": 3,
   "id": "1bfe0e10-c013-48c9-a130-e1f9e1b4c237",
   "metadata": {},
   "outputs": [
    {
     "ename": "ModuleNotFoundError",
     "evalue": "No module named 'moviepy.editor'",
     "output_type": "error",
     "traceback": [
      "\u001b[1;31m---------------------------------------------------------------------------\u001b[0m",
      "\u001b[1;31mModuleNotFoundError\u001b[0m                       Traceback (most recent call last)",
      "Cell \u001b[1;32mIn[3], line 1\u001b[0m\n\u001b[1;32m----> 1\u001b[0m \u001b[38;5;28;01mfrom\u001b[39;00m \u001b[38;5;21;01mmoviepy\u001b[39;00m\u001b[38;5;21;01m.\u001b[39;00m\u001b[38;5;21;01meditor\u001b[39;00m \u001b[38;5;28;01mimport\u001b[39;00m VideoFileClip, CompositeVideoClip\n\u001b[0;32m      2\u001b[0m video \u001b[38;5;241m=\u001b[39m VideoFileClip(\u001b[38;5;124mr\u001b[39m\u001b[38;5;124m\"\u001b[39m\u001b[38;5;124mvideo_mpeg_still.avi\u001b[39m\u001b[38;5;124m\"\u001b[39m)\n\u001b[0;32m      3\u001b[0m \u001b[38;5;28mprint\u001b[39m(\u001b[38;5;124m\"\u001b[39m\u001b[38;5;124mVideo format MPEG în care cadrele nu se modifică semnificativ\u001b[39m\u001b[38;5;124m\"\u001b[39m)\n",
      "\u001b[1;31mModuleNotFoundError\u001b[0m: No module named 'moviepy.editor'"
     ]
    }
   ],
   "source": [
    "from moviepy.editor import VideoFileClip, CompositeVideoClip\n",
    "video = VideoFileClip(r\"video_mpeg_still.avi\")\n",
    "print(\"Video format MPEG în care cadrele nu se modifică semnificativ\")\n",
    "video.ipython_display()"
   ]
  },
  {
   "cell_type": "code",
   "execution_count": null,
   "id": "23fcdcf4-9b68-44be-bd56-ca83ca45fb7c",
   "metadata": {},
   "outputs": [],
   "source": []
  }
 ],
 "metadata": {
  "kernelspec": {
   "display_name": "Python [conda env:base] *",
   "language": "python",
   "name": "conda-base-py"
  },
  "language_info": {
   "codemirror_mode": {
    "name": "ipython",
    "version": 3
   },
   "file_extension": ".py",
   "mimetype": "text/x-python",
   "name": "python",
   "nbconvert_exporter": "python",
   "pygments_lexer": "ipython3",
   "version": "3.12.3"
  }
 },
 "nbformat": 4,
 "nbformat_minor": 5
}
